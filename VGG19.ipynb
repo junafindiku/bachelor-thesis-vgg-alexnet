{
  "cells": [
    {
      "cell_type": "markdown",
      "metadata": {
        "id": "view-in-github",
        "colab_type": "text"
      },
      "source": [
        "<a href=\"https://colab.research.google.com/github/junafndiku/bachelor-thesis-vgg-alexnet/blob/main/VGG19.ipynb\" target=\"_parent\"><img src=\"https://colab.research.google.com/assets/colab-badge.svg\" alt=\"Open In Colab\"/></a>"
      ]
    },
    {
      "cell_type": "code",
      "execution_count": null,
      "metadata": {
        "id": "eAWyglPp6vMI"
      },
      "outputs": [],
      "source": [
        "!kaggle datasets download -d abdelghaniaaba/wildfire-prediction-dataset\n",
        "! unzip /content/wildfire-prediction-dataset.zip"
      ]
    },
    {
      "cell_type": "code",
      "execution_count": null,
      "metadata": {
        "id": "fW7hVThh6ybW"
      },
      "outputs": [],
      "source": [
        "import keras,os\n",
        "from keras.models import Sequential\n",
        "from keras.layers import Dense, Conv2D, MaxPool2D , Flatten\n",
        "from keras.preprocessing.image import ImageDataGenerator\n",
        "\n",
        "import numpy as np\n",
        "import tensorflow as tf\n",
        "import random\n",
        "\n",
        "seed_value = 42\n",
        "np.random.seed(seed_value)\n",
        "tf.random.set_seed(seed_value)\n",
        "random.seed(seed_value)\n"
      ]
    },
    {
      "cell_type": "code",
      "execution_count": null,
      "metadata": {
        "id": "hmx6Wy4YIWir"
      },
      "outputs": [],
      "source": [
        "trdata = ImageDataGenerator()\n",
        "traindata = trdata.flow_from_directory(directory=\"/content/train\",target_size=(350,350))\n",
        "tsdata = ImageDataGenerator()\n",
        "testdata = tsdata.flow_from_directory(directory=\"/content/test\", target_size=(350,350))"
      ]
    },
    {
      "cell_type": "code",
      "execution_count": null,
      "metadata": {
        "id": "M6_D-fM1602L"
      },
      "outputs": [],
      "source": [
        "from keras.models import Sequential\n",
        "from keras.layers import Conv2D, MaxPooling2D, Flatten, Dense\n",
        "from keras.optimizers import Adam\n",
        "\n",
        "# Define the model\n",
        "model = Sequential()\n",
        "\n",
        "# Block 1\n",
        "model.add(Conv2D(filters=64, kernel_size=(3,3), strides=1, padding='same', input_shape=(350,350,3), activation='relu'))\n",
        "model.add(Conv2D(filters=64, kernel_size=(3,3), strides=1, padding='same', activation='relu'))\n",
        "model.add(MaxPooling2D(pool_size=(2,2), strides=2))\n",
        "\n",
        "# Block 2\n",
        "model.add(Conv2D(filters=128, kernel_size=(3,3), strides=1, padding='same', activation='relu'))\n",
        "model.add(Conv2D(filters=128, kernel_size=(3,3), strides=1, padding='same', activation='relu'))\n",
        "model.add(MaxPooling2D(pool_size=(2,2), strides=2))\n",
        "\n",
        "# Block 3\n",
        "model.add(Conv2D(filters=256, kernel_size=(3,3), strides=1, padding='same', activation='relu'))\n",
        "model.add(Conv2D(filters=256, kernel_size=(3,3), strides=1, padding='same', activation='relu'))\n",
        "model.add(Conv2D(filters=256, kernel_size=(3,3), strides=1, padding='same', activation='relu'))\n",
        "model.add(Conv2D(filters=256, kernel_size=(3,3), strides=1, padding='same', activation='relu'))\n",
        "model.add(MaxPooling2D(pool_size=(2,2), strides=2))\n",
        "\n",
        "# Block 4\n",
        "model.add(Conv2D(filters=512, kernel_size=(3,3), strides=1, padding='same', activation='relu'))\n",
        "model.add(Conv2D(filters=512, kernel_size=(3,3), strides=1, padding='same', activation='relu'))\n",
        "model.add(Conv2D(filters=512, kernel_size=(3,3), strides=1, padding='same', activation='relu'))\n",
        "model.add(Conv2D(filters=512, kernel_size=(3,3), strides=1, padding='same', activation='relu'))\n",
        "model.add(MaxPooling2D(pool_size=(2,2), strides=2))\n",
        "\n",
        "# Block 5\n",
        "model.add(Conv2D(filters=512, kernel_size=(3,3), strides=1, padding='same', activation='relu'))\n",
        "model.add(Conv2D(filters=512, kernel_size=(3,3), strides=1, padding='same', activation='relu'))\n",
        "model.add(Conv2D(filters=512, kernel_size=(3,3), strides=1, padding='same', activation='relu'))\n",
        "model.add(Conv2D(filters=512, kernel_size=(3,3), strides=1, padding='same', activation='relu'))\n",
        "model.add(MaxPooling2D(pool_size=(2,2), strides=2))\n",
        "\n",
        "# Classification block\n",
        "model.add(Flatten())\n",
        "model.add(Dense(units=4096, activation='relu'))\n",
        "model.add(Dense(units=4096, activation='relu'))\n",
        "model.add(Dense(units=2, activation='softmax'))"
      ]
    },
    {
      "cell_type": "code",
      "source": [
        "model.summary()"
      ],
      "metadata": {
        "id": "01QU_od9fVU7"
      },
      "execution_count": null,
      "outputs": []
    },
    {
      "cell_type": "code",
      "execution_count": null,
      "metadata": {
        "id": "6MBSi_pn7Der"
      },
      "outputs": [],
      "source": [
        "from keras.optimizers import Adam\n",
        "opt = Adam(learning_rate=0.001)\n",
        "model.compile(optimizer=opt, loss=keras.losses.categorical_crossentropy, metrics=['accuracy'])"
      ]
    },
    {
      "cell_type": "code",
      "execution_count": null,
      "metadata": {
        "id": "66NoeDVv7NhK"
      },
      "outputs": [],
      "source": [
        "hist=model.fit(traindata,steps_per_epoch = 100, epochs = 6, validation_data = testdata, validation_steps = 10)\n"
      ]
    },
    {
      "cell_type": "code",
      "source": [
        "import matplotlib.pyplot as plt\n",
        "plt.plot(hist.history[\"accuracy\"])\n",
        "plt.plot(hist.history['val_accuracy'])\n",
        "plt.plot(hist.history['loss'])\n",
        "plt.plot(hist.history['val_loss'])\n",
        "plt.title(\"model accuracy\")\n",
        "plt.ylabel(\"Accuracy\")\n",
        "plt.xlabel(\"Epoch\")\n",
        "plt.legend([\"Accuracy\",\"Validation Accuracy\",\"loss\",\"Validation Loss\"])\n",
        "plt.show()"
      ],
      "metadata": {
        "id": "Pgslg5MafRi6"
      },
      "execution_count": null,
      "outputs": []
    },
    {
      "cell_type": "code",
      "source": [
        "from google.colab import drive\n",
        "drive.mount('/content/gdrive')"
      ],
      "metadata": {
        "id": "bQ0ms2NC1kPx"
      },
      "execution_count": null,
      "outputs": []
    },
    {
      "cell_type": "code",
      "source": [
        "import torch\n",
        "\n",
        "model_save_name = 'classifier.vgg19'\n",
        "path = F\"/content/gdrive/MyDrive/{model_save_name}\"\n",
        "model.save(path)"
      ],
      "metadata": {
        "id": "jRjMJR0e1sbJ"
      },
      "execution_count": null,
      "outputs": []
    },
    {
      "cell_type": "code",
      "source": [
        "from tensorflow.keras.models import load_model\n",
        "model = load_model(\"/content/gdrive/MyDrive/classifier.vgg19\")\n",
        "\n",
        "from tensorflow.keras.preprocessing.image import ImageDataGenerator\n",
        "\n",
        "validation_datagen = ImageDataGenerator()\n",
        "validation_generator = trdata.flow_from_directory(directory=\"/content/valid\",target_size=(350,350))\n",
        "\n",
        "loss, accuracy = model.evaluate(validation_generator, steps=50)\n",
        "print(f'Validation Loss: {loss}')\n",
        "print(f'Validation Accuracy: {accuracy}')\n"
      ],
      "metadata": {
        "id": "h6DPUA6G_UzQ"
      },
      "execution_count": null,
      "outputs": []
    }
  ],
  "metadata": {
    "accelerator": "GPU",
    "colab": {
      "gpuType": "T4",
      "provenance": [],
      "authorship_tag": "ABX9TyP2DV5o76H2ZDqDl7Abf7TJ",
      "include_colab_link": true
    },
    "kernelspec": {
      "display_name": "Python 3",
      "name": "python3"
    },
    "language_info": {
      "name": "python"
    }
  },
  "nbformat": 4,
  "nbformat_minor": 0
}